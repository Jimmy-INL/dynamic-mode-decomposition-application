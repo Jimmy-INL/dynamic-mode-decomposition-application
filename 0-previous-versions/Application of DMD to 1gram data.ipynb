{
 "cells": [
  {
   "cell_type": "markdown",
   "metadata": {},
   "source": [
    "# Application of DMD on 1gram data\n",
    "\n",
    "## Arnold D. Kim, Maia Powell, Alex Quijano, Suzanne Sindi, and Ayme Tomson\n",
    "\n",
    "*Department of Applied Mathematics, University of California, Merced*"
   ]
  },
  {
   "cell_type": "code",
   "execution_count": 1,
   "metadata": {},
   "outputs": [
    {
     "name": "stdout",
     "output_type": "stream",
     "text": [
      "Last updated: 29/01/2019\n"
     ]
    }
   ],
   "source": [
    "import  time\n",
    "print( 'Last updated: %s' %time.strftime('%d/%m/%Y') )"
   ]
  },
  {
   "cell_type": "code",
   "execution_count": 2,
   "metadata": {},
   "outputs": [],
   "source": [
    "from numpy.linalg import svd as svd\n",
    "import numpy as np\n",
    "import matplotlib.pyplot as plt\n",
    "plt.rcParams['figure.figsize'] = [10, 8]\n",
    "plt.rc( 'xtick', labelsize=14 ) \n",
    "plt.rc( 'ytick', labelsize=14 )"
   ]
  },
  {
   "cell_type": "markdown",
   "metadata": {},
   "source": [
    "## Load in 1gram data prepared by Alex Quijano"
   ]
  },
  {
   "cell_type": "code",
   "execution_count": 3,
   "metadata": {},
   "outputs": [
    {
     "name": "stdout",
     "output_type": "stream",
     "text": [
      "(16410, 109)\n"
     ]
    }
   ],
   "source": [
    "Y = np.load('googlebooks-eng-us-all-1gram-20120701.filtered.RTrueAFalseITrue.all.zscore.npy')\n",
    "print(Y.shape)"
   ]
  },
  {
   "cell_type": "markdown",
   "metadata": {},
   "source": [
    "## Set the training data to determine the DMD matrix"
   ]
  },
  {
   "cell_type": "markdown",
   "metadata": {},
   "source": [
    "We take the time points 1 through Ntrain and store them as $Y_0$, and we take the time points 2 through Ntrain+1 and store them as $Y_1$. We will use these data to train the DMD."
   ]
  },
  {
   "cell_type": "code",
   "execution_count": 4,
   "metadata": {},
   "outputs": [],
   "source": [
    "# set the number of time samples on which to train DMD\n",
    "\n",
    "Ntrain = 50\n",
    "\n",
    "# extract training data\n",
    "\n",
    "Y_0 = Y[:,0:Ntrain]\n",
    "Y_1 = Y[:,1:Ntrain+1]"
   ]
  },
  {
   "cell_type": "markdown",
   "metadata": {},
   "source": [
    "## Compute the DMD matrix"
   ]
  },
  {
   "cell_type": "markdown",
   "metadata": {},
   "source": [
    "To compute the DMD matrix, A, we seek the least-squares solution of\n",
    "$$\n",
    "A Y_{0} = Y_{1}.\n",
    "$$\n",
    "We compute this solution using the singular value decomposition, $Y_{0} = U \\Sigma V^{H}$, and then computing\n",
    "$$\n",
    "A = Y_{1} V \\Sigma^{+} U^{H},\n",
    "$$\n",
    "with $\\Sigma^{+}$ denoting the pseudo-inverse of $\\Sigma$."
   ]
  },
  {
   "cell_type": "markdown",
   "metadata": {},
   "source": [
    "First, we compute the singular value decomposition of $Y_{0}$."
   ]
  },
  {
   "cell_type": "code",
   "execution_count": 5,
   "metadata": {},
   "outputs": [],
   "source": [
    "U, S, VH = svd(Y_0)"
   ]
  },
  {
   "cell_type": "markdown",
   "metadata": {},
   "source": [
    "We plot the so-called \"normalized energy\" corresponding to the normalized square of the singular values,\n",
    "$$ \\text{energy}_{j} = \\frac{\\sigma_{j}^{2}}{\\displaystyle \\sum_{k = 1}^{Ntrain} \\sigma_{k}^{2}}$$."
   ]
  },
  {
   "cell_type": "code",
   "execution_count": 6,
   "metadata": {},
   "outputs": [
    {
     "data": {
      "image/png": "[encoded data removed]",
      "text/plain": [
       "<Figure size 432x288 with 2 Axes>"
      ]
     },
     "metadata": {},
     "output_type": "display_data"
    }
   ],
   "source": [
    "# compute the normalized energy\n",
    "\n",
    "energy = np.power( S, 2 ) / np.sum( np.power( S, 2 ) )\n",
    "\n",
    "# compute the cumulative energy\n",
    "\n",
    "cumulative_energy = np.cumsum( energy )\n",
    "\n",
    "# plot the energy results\n",
    "\n",
    "plt.subplot(1,2,1)\n",
    "plt.plot( energy, 'o' )\n",
    "plt.xlabel( 'index', fontsize=18 )\n",
    "plt.ylabel( 'energy', fontsize=18 )\n",
    "\n",
    "plt.subplot(1,2,2)\n",
    "plt.plot( cumulative_energy, 'o' )\n",
    "plt.xlabel( 'index', fontsize=18 )\n",
    "plt.ylabel( 'cumulative energy', fontsize=18 )\n",
    "\n",
    "plt.tight_layout()\n",
    "plt.show()"
   ]
  },
  {
   "cell_type": "markdown",
   "metadata": {},
   "source": [
    "We now compute the pseudo-inverse of $\\Sigma$ defined as the reciprocals of the singular values."
   ]
  },
  {
   "cell_type": "code",
   "execution_count": 7,
   "metadata": {},
   "outputs": [],
   "source": [
    "# allocate memory for a Ntrain x Nrows matrix of zeros\n",
    "\n",
    "Sinv = np.zeros((Ntrain,16410),dtype=float)\n",
    "\n",
    "# set the number of singular values to invert (chosen to capture ~99% of the normalized energy)\n",
    "\n",
    "Nsvals = 68\n",
    "\n",
    "# compute the first Nsvals reciprocal values of singular values\n",
    "\n",
    "for j, i in enumerate(S[0:Nsvals]):\n",
    "    Sinv[j,j]=1/i"
   ]
  },
  {
   "cell_type": "markdown",
   "metadata": {},
   "source": [
    "Compute the DMD matrix through evaluation of $A = Y_{1} V \\Sigma^{+} U^{H}$."
   ]
  },
  {
   "cell_type": "code",
   "execution_count": 8,
   "metadata": {},
   "outputs": [],
   "source": [
    "A = np.matmul( Y_1, np.matmul( np.matmul( VH.conj().T, Sinv ), U.conj().T ) )"
   ]
  },
  {
   "cell_type": "markdown",
   "metadata": {},
   "source": [
    "## Test the accuracy of the DMD"
   ]
  },
  {
   "cell_type": "markdown",
   "metadata": {},
   "source": [
    "We test the accuracy of the DMD by computing $\\tilde{Y} = A Y_{0}$ and comparing that to $Y$. To keep the plots simple, we look only at a particular entry of $Y$ as a function of \"time\"."
   ]
  },
  {
   "cell_type": "code",
   "execution_count": 9,
   "metadata": {},
   "outputs": [],
   "source": [
    "Ytest = np.matmul( A, Y )"
   ]
  },
  {
   "cell_type": "code",
   "execution_count": 10,
   "metadata": {},
   "outputs": [
    {
     "data": {
      "image/png": "[encoded data removed]",
      "text/plain": [
       "<Figure size 432x288 with 1 Axes>"
      ]
     },
     "metadata": {},
     "output_type": "display_data"
    }
   ],
   "source": [
    "# set the entry to be plotted\n",
    "\n",
    "vocab = np.load(\"googlebooks-eng-us-all-1gram-20120701.filtered.RTrueAFalseITrue.all.vocabulary.npy\").item()\n",
    "\n",
    "#ientry = 10287\n",
    "ientry = vocab['forward']['democracy']\n",
    "\n",
    "# plot the value of ientry data as a function of time and compare it with the DMD results\n",
    "\n",
    "plt.plot( np.arange(0,109), Y[ientry,:], np.arange(1,110), Ytest[ientry,:], '--' )\n",
    "plt.plot( np.array([ Ntrain-1, Ntrain-1 ]), np.array([ -3, 3 ]), ':')\n",
    "plt.xlabel( 'time', fontsize=18 )\n",
    "plt.ylabel( 'data', fontsize=18 )\n",
    "plt.legend( ('data', 'DMD reconstruction'), fontsize=14 )\n",
    "plt.tight_layout()\n",
    "plt.show()"
   ]
  },
  {
   "cell_type": "markdown",
   "metadata": {},
   "source": [
    "These results show that the DMD is doing a rather reasonable job at reconstructing these time series data. It appears that beyond the training set, the DMD model captures the qualitative features of the time series data, but is smoother."
   ]
  },
  {
   "cell_type": "markdown",
   "metadata": {},
   "source": [
    "## Spectrum of the DMD matrix\n",
    "(Warning: This part takes a long time to compute!)"
   ]
  },
  {
   "cell_type": "markdown",
   "metadata": {},
   "source": [
    "We now compute the eigenvalues of the matrix $A$."
   ]
  },
  {
   "cell_type": "code",
   "execution_count": 11,
   "metadata": {},
   "outputs": [],
   "source": [
    "spectrum = np.linalg.eigvals( A )"
   ]
  },
  {
   "cell_type": "code",
   "execution_count": 12,
   "metadata": {},
   "outputs": [
    {
     "data": {
      "image/png": "[encoded data removed]",
      "text/plain": [
       "<Figure size 432x288 with 1 Axes>"
      ]
     },
     "metadata": {},
     "output_type": "display_data"
    }
   ],
   "source": [
    "plt.plot( spectrum.real, spectrum.imag, 'x' ) \n",
    "plt.xlabel( 'Re[$\\lambda$]', fontsize=18 )\n",
    "plt.ylabel( 'Im[$\\lambda$]', fontsize=18 )\n",
    "plt.tight_layout()\n",
    "plt.show()"
   ]
  },
  {
   "cell_type": "markdown",
   "metadata": {},
   "source": [
    "There are several nearly zero eigenvalues and several eigenvalues with absolute value equal to one. These results require further investigation."
   ]
  },
  {
   "cell_type": "code",
   "execution_count": null,
   "metadata": {},
   "outputs": [],
   "source": []
  }
 ],
 "metadata": {
  "kernelspec": {
   "display_name": "Python 3",
   "language": "python",
   "name": "python3"
  },
  "language_info": {
   "codemirror_mode": {
    "name": "ipython",
    "version": 3
   },
   "file_extension": ".py",
   "mimetype": "text/x-python",
   "name": "python",
   "nbconvert_exporter": "python",
   "pygments_lexer": "ipython3",
   "version": "3.6.8"
  }
 },
 "nbformat": 4,
 "nbformat_minor": 2
}
