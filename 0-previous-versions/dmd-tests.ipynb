{
 "cells": [
  {
   "cell_type": "code",
   "execution_count": 14,
   "metadata": {},
   "outputs": [],
   "source": [
    "from numpy.linalg import svd as svd\n",
    "import numpy as np\n",
    "\n",
    "import matplotlib.pyplot as plt"
   ]
  },
  {
   "cell_type": "code",
   "execution_count": 15,
   "metadata": {},
   "outputs": [
    {
     "name": "stdout",
     "output_type": "stream",
     "text": [
      "(18737, 109)\n"
     ]
    }
   ],
   "source": [
    "Y = np.load('googlebooks-eng-all-1gram-20120701.filtered.RTrueAFalseITrue.all.zscore.npy')\n",
    "print(Y.shape)"
   ]
  },
  {
   "cell_type": "code",
   "execution_count": 61,
   "metadata": {},
   "outputs": [
    {
     "data": {
      "text/plain": [
       "(18737, 100)"
      ]
     },
     "execution_count": 61,
     "metadata": {},
     "output_type": "execute_result"
    }
   ],
   "source": [
    "Y_0 = Y[:,0:100]\n",
    "Y_1 = Y[:,1:101]\n",
    "Y_0.shape\n",
    "Y_1.shape"
   ]
  },
  {
   "cell_type": "code",
   "execution_count": 62,
   "metadata": {},
   "outputs": [
    {
     "data": {
      "text/plain": [
       "((18737, 18737), (100,), (100, 100))"
      ]
     },
     "execution_count": 62,
     "metadata": {},
     "output_type": "execute_result"
    }
   ],
   "source": [
    "U, S, VH = svd(Y_0)\n",
    "U.shape, S.shape, VH.shape"
   ]
  },
  {
   "cell_type": "code",
   "execution_count": 63,
   "metadata": {},
   "outputs": [
    {
     "data": {
      "image/png": "[encoded data removed]",
      "text/plain": [
       "<Figure size 432x288 with 1 Axes>"
      ]
     },
     "metadata": {},
     "output_type": "display_data"
    }
   ],
   "source": [
    "plt.plot(S)\n",
    "plt.show()"
   ]
  },
  {
   "cell_type": "code",
   "execution_count": 71,
   "metadata": {},
   "outputs": [
    {
     "name": "stdout",
     "output_type": "stream",
     "text": [
      "(18737, 100)\n",
      "(18737, 100)\n"
     ]
    }
   ],
   "source": [
    "S_full = np.zeros((18737,100),dtype=float)\n",
    "S_full_inv = np.zeros((18737,100),dtype=float)\n",
    "S_full.shape\n",
    "\n",
    "for j, i in enumerate(S):\n",
    "    S_full[j,j] = i\n",
    "    S_full_inv[j,j] = 1/i\n",
    "print(S_full.shape)\n",
    "print(S_full_inv.shape)"
   ]
  },
  {
   "cell_type": "code",
   "execution_count": 110,
   "metadata": {},
   "outputs": [
    {
     "name": "stdout",
     "output_type": "stream",
     "text": [
      "[[ 2.44249065e-15 -6.92779167e-14  1.40776280e-13 ...  3.75255382e-14\n",
      "   1.13242749e-14  1.64313008e-14]\n",
      " [ 1.02695630e-14  2.00395256e-14  3.49720253e-15 ...  1.26565425e-14\n",
      "   1.66533454e-14  1.90958360e-14]\n",
      " [-1.33226763e-14 -1.24344979e-14 -1.55431223e-14 ... -2.77833312e-14\n",
      "  -3.36397576e-14 -3.37507799e-14]\n",
      " ...\n",
      " [ 1.28785871e-14  1.64313008e-14  1.33226763e-14 ...  1.42108547e-14\n",
      "   1.22124533e-14  1.45439216e-14]\n",
      " [ 1.24344979e-14  1.31006317e-14  1.15463195e-14 ...  1.07691633e-14\n",
      "   9.76996262e-15  1.02973186e-14]\n",
      " [-1.59872116e-14 -1.82076576e-14 -1.42108547e-14 ... -1.42108547e-14\n",
      "  -1.44328993e-14 -1.50990331e-14]]\n"
     ]
    }
   ],
   "source": [
    "Y_0_reconstructed = np.matmul(np.matmul(U,S_full),VH)\n",
    "diff = Y_0-Y_0_reconstructed\n",
    "print(diff) # all elements should be zeros"
   ]
  },
  {
   "cell_type": "code",
   "execution_count": 111,
   "metadata": {},
   "outputs": [
    {
     "name": "stdout",
     "output_type": "stream",
     "text": [
      "(18737, 18737)\n"
     ]
    }
   ],
   "source": [
    "A = np.matmul(Y_1,np.matmul(np.matmul(np.transpose(VH),np.transpose(S_full_inv)),np.transpose(U)))\n",
    "print(A.shape)"
   ]
  },
  {
   "cell_type": "code",
   "execution_count": 112,
   "metadata": {},
   "outputs": [
    {
     "data": {
      "image/png": "[encoded data removed]",
      "text/plain": [
       "<Figure size 432x288 with 1 Axes>"
      ]
     },
     "metadata": {},
     "output_type": "display_data"
    }
   ],
   "source": [
    "plt.imshow(A[0:10,0:10])\n",
    "plt.show()"
   ]
  },
  {
   "cell_type": "code",
   "execution_count": null,
   "metadata": {},
   "outputs": [],
   "source": []
  }
 ],
 "metadata": {
  "kernelspec": {
   "display_name": "Python 3",
   "language": "python",
   "name": "python3"
  },
  "language_info": {
   "codemirror_mode": {
    "name": "ipython",
    "version": 3
   },
   "file_extension": ".py",
   "mimetype": "text/x-python",
   "name": "python",
   "nbconvert_exporter": "python",
   "pygments_lexer": "ipython3",
   "version": "3.6.5"
  }
 },
 "nbformat": 4,
 "nbformat_minor": 2
}
